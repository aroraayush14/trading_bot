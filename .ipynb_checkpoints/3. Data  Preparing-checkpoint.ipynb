{
 "cells": [
  {
   "cell_type": "code",
   "execution_count": 2,
   "metadata": {},
   "outputs": [],
   "source": [
    "import numpy as np\n",
    "import pandas as pd\n",
    "import statsmodels.api as sm\n"
   ]
  },
  {
   "cell_type": "code",
   "execution_count": 3,
   "metadata": {},
   "outputs": [],
   "source": [
    "# To find a slope of price line \n",
    "def indSlope(series,n):\n",
    "    \n",
    "    array_sl = [j*0 for j in range(n-1)]\n",
    "    \n",
    "    for j in range(n,len(series)+1):\n",
    "        y = series[j-n:j]\n",
    "        x = np.array(range(n))\n",
    "        x_sc = (x - x.min())/(x.max() - x.min())\n",
    "        y_sc = (y - y.min())/(y.max() - y.min())\n",
    "        x_sc = sm.add_constant(x_sc)\n",
    "        model = sm.OLS(y_sc,x_sc)\n",
    "        results = model.fit()\n",
    "        array_sl.append(results.params[-1])\n",
    "    slope_angle = (np.rad2deg(np.arctan(np.array(array_sl))))\n",
    "    return np.array(slope_angle)"
   ]
  },
  {
   "cell_type": "code",
   "execution_count": 4,
   "metadata": {},
   "outputs": [],
   "source": [
    "# True Range and Average True Range indicator\n",
    "\n",
    "def indATR(source_DF,n):\n",
    "    df = source_DF.copy()\n",
    "    df['H-L']=abs(df['high']-df['low'])\n",
    "    df['H-PC']=abs(df['high']-df['close'].shift(1))\n",
    "    df['L-PC']=abs(df['low']-df['close'].shift(1))\n",
    "    df['TR']=df[['H-L','H-PC','L-PC']].max(axis=1,skipna=False)\n",
    "    df['ATR'] = df['TR'].rolling(n).mean()\n",
    "    df_temp = df.drop(['H-L','H-PC','L-PC'],axis=1)\n",
    "    return df_temp"
   ]
  },
  {
   "cell_type": "code",
   "execution_count": 5,
   "metadata": {},
   "outputs": [],
   "source": [
    "# generate data frame with all needed data\n",
    "\n",
    "def PrepareDF(DF):\n",
    "    ohlc = DF.iloc[:,[0,1,2,3,4,5]]\n",
    "    ohlc.columns = [\"date\",\"open\",\"high\",\"low\",\"close\",\"volume\"]\n",
    "    ohlc=ohlc.set_index('date')\n",
    "    df = indATR(ohlc,14).reset_index()\n",
    "    df['slope'] = indSlope(df['close'],5)\n",
    "    df['channel_max'] = df['high'].rolling(10).max()\n",
    "    df['channel_min'] = df['low'].rolling(10).min()\n",
    "    df['position_in_channel'] = (df['close']-df['channel_min']) / (df['channel_max']-df['channel_min'])\n",
    "    df = df.set_index('date')\n",
    "    df = df.reset_index()\n",
    "    return(df)\n"
   ]
  },
  {
   "cell_type": "code",
   "execution_count": 6,
   "metadata": {},
   "outputs": [],
   "source": [
    "# find local mimimum / local maximum\n",
    "\n",
    "def isLCC(DF,i):\n",
    "    df=DF.copy()\n",
    "    LCC=0\n",
    "    \n",
    "    if df['close'][i]<=df['close'][i+1] and df['close'][i]<=df['close'][i-1] and df['close'][i+1]>df['close'][i-1]:\n",
    "        #найдено Дно\n",
    "        LCC = i-1;\n",
    "    return LCC\n",
    "\n",
    "def isHCC(DF,i):\n",
    "    df=DF.copy()\n",
    "    HCC=0\n",
    "    if df['close'][i]>=df['close'][i+1] and df['close'][i]>=df['close'][i-1] and df['close'][i+1]<df['close'][i-1]:\n",
    "        #найдена вершина\n",
    "        HCC = i;\n",
    "    return HCC\n",
    "\n",
    "\n",
    "\n"
   ]
  },
  {
   "cell_type": "code",
   "execution_count": 7,
   "metadata": {},
   "outputs": [],
   "source": [
    "def getMaxMinChannel(DF, n):\n",
    "    maxx=0\n",
    "    minn=DF['low'].max()\n",
    "    for i in range (1,n):\n",
    "        if maxx<DF['high'][len(DF)-i]:\n",
    "            maxx=DF['high'][len(DF)-i]\n",
    "        if minn>DF['low'][len(DF)-i]:\n",
    "            minn=DF['low'][len(DF)-i]\n",
    "    return(maxx,minn)"
   ]
  },
  {
   "cell_type": "code",
   "execution_count": 8,
   "metadata": {},
   "outputs": [],
   "source": [
    "apiKey='BK53YCTI6Q5VENNY'\n",
    "\n",
    "interval_var = '5min'\n",
    "symbol='ETH'\n",
    "\n",
    "path='https://www.alphavantage.co/query?function=CRYPTO_INTRADAY&symbol='+symbol+'&market=USD&interval='+interval_var+'&apikey='+apiKey+'&datatype=csv&outputsize=full'\n",
    "df = pd.read_csv(path)\n",
    "\n"
   ]
  },
  {
   "cell_type": "code",
   "execution_count": 9,
   "metadata": {},
   "outputs": [],
   "source": [
    "# convert time order\n",
    "df=df[::-1]\n"
   ]
  },
  {
   "cell_type": "code",
   "execution_count": 10,
   "metadata": {},
   "outputs": [],
   "source": [
    "prepared_df=PrepareDF(df)"
   ]
  },
  {
   "cell_type": "code",
   "execution_count": null,
   "metadata": {},
   "outputs": [],
   "source": [
    "prepared_df[0:100]['close'].plot()"
   ]
  },
  {
   "cell_type": "code",
   "execution_count": null,
   "metadata": {},
   "outputs": [],
   "source": [
    "prepared_df[0:100]['slope'].plot()"
   ]
  },
  {
   "cell_type": "code",
   "execution_count": null,
   "metadata": {},
   "outputs": [],
   "source": [
    "prepared_df[0:100][{'channel_max','channel_min','close'}].plot()"
   ]
  },
  {
   "cell_type": "code",
   "execution_count": null,
   "metadata": {},
   "outputs": [],
   "source": [
    "prepared_df[0:100][{'position_in_channel'}].plot()"
   ]
  }
 ],
 "metadata": {
  "kernelspec": {
   "display_name": "Python 3 (ipykernel)",
   "language": "python",
   "name": "python3"
  },
  "language_info": {
   "codemirror_mode": {
    "name": "ipython",
    "version": 3
   },
   "file_extension": ".py",
   "mimetype": "text/x-python",
   "name": "python",
   "nbconvert_exporter": "python",
   "pygments_lexer": "ipython3",
   "version": "3.10.2"
  }
 },
 "nbformat": 4,
 "nbformat_minor": 4
}
